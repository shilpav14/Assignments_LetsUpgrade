{
 "cells": [
  {
   "cell_type": "code",
   "execution_count": 1,
   "metadata": {},
   "outputs": [],
   "source": [
    "import numpy as np"
   ]
  },
  {
   "cell_type": "code",
   "execution_count": 5,
   "metadata": {},
   "outputs": [
    {
     "data": {
      "text/plain": [
       "array([ 2,  5,  8, 11, 14, 17, 20, 23, 26, 29, 32, 35, 38, 41, 44, 47])"
      ]
     },
     "execution_count": 5,
     "metadata": {},
     "output_type": "execute_result"
    }
   ],
   "source": [
    "# Question 1:\n",
    "\n",
    "np.arange(2,50,3)"
   ]
  },
  {
   "cell_type": "code",
   "execution_count": null,
   "metadata": {},
   "outputs": [],
   "source": [
    "# Question 2:\n",
    "\n",
    "lst1 = []\n",
    "lst2 = []\n",
    "\n",
    "\n",
    "for i in range(0,5):\n",
    "    n1 = int(input())\n",
    "    lst1.append(n1)\n",
    "\n",
    "for j in range(0,5):\n",
    "    n2 = int(input())\n",
    "    lst2.append(n2)\n",
    "    \n",
    "print(\"List1:\",lst1)\n",
    "print(\"List2:\",lst2)\n",
    "\n",
    "# Converting list to numpy array\n",
    "\n",
    "arr1 = np.array(lst1)\n",
    "arr2 = np.array(lst2)\n",
    "\n",
    "print(\"Array1:\",arr1)\n",
    "print(\"Array2:\",arr2)\n",
    "\n",
    "# Concatenating two numpy arrays\n",
    "\n",
    "new_arr = np.concatenate(arr1,arr2)\n",
    "print(new_arr)\n",
    "\n",
    "# Sorting numpy array\n",
    "\n",
    "result = np.sort(n)"
   ]
  },
  {
   "cell_type": "markdown",
   "metadata": {},
   "source": [
    "#### Question 3:\n",
    "\n",
    "Get Dimensions of a 2D numpy array using \"ndarray.shape\"\n",
    "    "
   ]
  },
  {
   "cell_type": "code",
   "execution_count": null,
   "metadata": {},
   "outputs": [],
   "source": [
    "arr = np.array([1,2,3,4])"
   ]
  },
  {
   "cell_type": "code",
   "execution_count": null,
   "metadata": {},
   "outputs": [],
   "source": [
    "arr.shape"
   ]
  },
  {
   "cell_type": "code",
   "execution_count": null,
   "metadata": {},
   "outputs": [],
   "source": [
    "#Get number of rows in this 2D numpy array\n",
    "\n",
    "rows = arr.shape[0]\n",
    "\n",
    "print(\"No of rows:\",rows)\n",
    "\n",
    "# Get number of columns in this 2D numpy array\n",
    "\n",
    "col = arr.shape[1]\n",
    "\n",
    "print(\"No of columns:\",col)\n",
    "\n",
    "# Get total number of elements in this 2D numpy array\n",
    "\n",
    "print(\"Total number of elements:\", arr.shape[0] * arr.shape[1])\n",
    "\n"
   ]
  },
  {
   "cell_type": "code",
   "execution_count": null,
   "metadata": {},
   "outputs": [],
   "source": [
    "# finding size of an ndarray using \"ndarray.size()\"\n",
    "\n",
    "arr1 = np.array([[1,2,3,4], [5,6,7,8], [9,10,11,12]])\n",
    "print(\"2D Numpy Array\")\n",
    "print(arr1)\n",
    "\n",
    "# get number of rows in 2D numpy array\n",
    "rows = np.size(arr1, 0)\n",
    "\n",
    "# get number of columns in 2D numpy array\n",
    "col = np.size(arr2, 1)\n",
    "print('Number of Rows : ', rows)\n",
    "print('Number of Columns : ', col)\n"
   ]
  },
  {
   "cell_type": "code",
   "execution_count": null,
   "metadata": {},
   "outputs": [],
   "source": [
    "# Question 4:\n",
    "\n",
    "a = np.arange(10)\n",
    "print(\"1D-Array\",a)\n",
    "a.shape"
   ]
  },
  {
   "cell_type": "code",
   "execution_count": null,
   "metadata": {},
   "outputs": [],
   "source": [
    "# convertig to 2D-array \n",
    "# using \"newaxis\"\n",
    "\n",
    "#type1:\n",
    "a[:,np.newaxis]"
   ]
  },
  {
   "cell_type": "code",
   "execution_count": null,
   "metadata": {},
   "outputs": [],
   "source": [
    "a[:,np.newaxis].shape"
   ]
  },
  {
   "cell_type": "code",
   "execution_count": null,
   "metadata": {},
   "outputs": [],
   "source": [
    "#type2:\n",
    "a[np.newaxis,:]"
   ]
  },
  {
   "cell_type": "code",
   "execution_count": null,
   "metadata": {},
   "outputs": [],
   "source": [
    "a[np.newaxis,:].shape"
   ]
  },
  {
   "cell_type": "code",
   "execution_count": null,
   "metadata": {},
   "outputs": [],
   "source": [
    "# convertig to 2D-array \n",
    "# using \"expand_dims\"\n",
    "\n",
    "x = np.array([1, 2])\n",
    "x.shape"
   ]
  },
  {
   "cell_type": "code",
   "execution_count": null,
   "metadata": {},
   "outputs": [],
   "source": [
    "# which is equivalent to x[np.newaxis, :]\n",
    "# for rows\n",
    "\n",
    "y = expand_dims(x,axis=0)\n",
    "print(y)\n",
    "y.shape"
   ]
  },
  {
   "cell_type": "code",
   "execution_count": null,
   "metadata": {},
   "outputs": [],
   "source": [
    "# which is equivalent to x[:np.newaxis]\n",
    "# for columns\n",
    "\n",
    "y = expand_dims(x,axis=1)\n",
    "print(y)\n",
    "y.shape"
   ]
  },
  {
   "cell_type": "code",
   "execution_count": null,
   "metadata": {},
   "outputs": [],
   "source": [
    "# Question5:\n",
    "\n",
    "arr1 = np.array([1,2,3,4])\n",
    "new_arr1 = np.square(arr1)\n",
    "\n",
    "arr2 = np.array([5,6,7,8])\n",
    "new_arr2 = np.square(arr2)\n",
    "\n",
    "# Stacking vertically using \"vstack\"\n",
    "\n",
    "print(\"Vertical:\",np.vstack(new_arr1))\n",
    "print(\"Vertical:\",np.vstack(new_arr2))\n",
    "\n",
    "# Stacking horizontally using \"hstack\"\n",
    "\n",
    "print(\"Horizontal:\",np.hstack(new_arr1))\n",
    "print(\"Horizontal:\",np.hstack(new_arr2))\n"
   ]
  },
  {
   "cell_type": "code",
   "execution_count": null,
   "metadata": {},
   "outputs": [],
   "source": [
    "# Question 5:\n",
    "\n",
    "# 1-D array\n",
    "np.unique([1,3,4,1,2,5])"
   ]
  },
  {
   "cell_type": "code",
   "execution_count": null,
   "metadata": {},
   "outputs": [],
   "source": [
    "# 2-D array\n",
    "\n",
    "np.unique([1,1],[2,5])"
   ]
  },
  {
   "cell_type": "code",
   "execution_count": null,
   "metadata": {},
   "outputs": [],
   "source": [
    "# returns the unique items and counts of unique items\n",
    "\n",
    "a = np.array([1,2,8,1,3,5,1,5])\n",
    "unique, frequency = np.unique(a, return_counts = True)"
   ]
  }
 ],
 "metadata": {
  "kernelspec": {
   "display_name": "Python 3",
   "language": "python",
   "name": "python3"
  },
  "language_info": {
   "codemirror_mode": {
    "name": "ipython",
    "version": 3
   },
   "file_extension": ".py",
   "mimetype": "text/x-python",
   "name": "python",
   "nbconvert_exporter": "python",
   "pygments_lexer": "ipython3",
   "version": "3.8.3"
  }
 },
 "nbformat": 4,
 "nbformat_minor": 4
}
