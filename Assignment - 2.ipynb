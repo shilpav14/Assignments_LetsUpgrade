{
 "cells": [
  {
   "cell_type": "code",
   "execution_count": null,
   "metadata": {},
   "outputs": [],
   "source": [
    "# Question 1:\n",
    "\n",
    "even = []\n",
    "for i in range(1,11):\n",
    "    x = int(input(\"Enter a number\"))\n",
    "    if x%2 == 0:\n",
    "        even.append(x)\n",
    "    print(even)\n"
   ]
  },
  {
   "cell_type": "markdown",
   "metadata": {},
   "source": [
    "#### Question 2:\n",
    "\n",
    "## List Comprehensions"
   ]
  },
  {
   "cell_type": "code",
   "execution_count": null,
   "metadata": {},
   "outputs": [],
   "source": [
    "# List Comprehension vs For Loop in Python\n",
    "\n",
    "# for loop\n",
    "\n",
    "x = []\n",
    "\n",
    "for letter in \"hello\":\n",
    "    x.append(letter)\n",
    "print(x)\n",
    "\n",
    "\n",
    "# using list  comprehension\n",
    "\n",
    "x = [letter for letter in \"hello\"]\n",
    "print(x)"
   ]
  },
  {
   "cell_type": "code",
   "execution_count": null,
   "metadata": {},
   "outputs": [],
   "source": [
    "# List Comprehensions vs Lambda functions\n",
    "\n",
    "# Lambda functions\n",
    "\n",
    "letters = list(map(lambda x:x, \"hello\"))\n",
    "print(letters)\n",
    "\n",
    "# List comprehensions\n",
    "\n",
    "num = [x for x in range(20) if x % 2 == 0]\n",
    "print(num)"
   ]
  },
  {
   "cell_type": "code",
   "execution_count": null,
   "metadata": {},
   "outputs": [],
   "source": [
    "# Nested Loops in List Comprehension\n",
    "\n",
    "a = []\n",
    "b = [[1,2,3,4], [5,6,7,8]]\n",
    "\n",
    "for i in range(len(b[0])):\n",
    "    a1 = []\n",
    "    \n",
    "    for j in b:\n",
    "        a1.append(j[i])\n",
    "    a.append(a1)\n",
    "print(a)"
   ]
  },
  {
   "cell_type": "code",
   "execution_count": null,
   "metadata": {},
   "outputs": [],
   "source": [
    "# Question 3:\n",
    "\n",
    "n = int(input())\n",
    "\n",
    "d = {}\n",
    "for i in range(1,n+1):\n",
    "    d[i] = i*i\n",
    "print(d)"
   ]
  },
  {
   "cell_type": "code",
   "execution_count": null,
   "metadata": {},
   "outputs": [],
   "source": [
    "# Question 4:\n",
    "\n",
    "import math\n",
    "\n",
    "# initializing the position vector\n",
    "pos = [0,0]\n",
    "\n",
    "#reading the input from the user\n",
    "n = int(input())\n",
    "\n",
    "for i in range(n):\n",
    "    s = input()\n",
    "\n",
    "# splitting the input\n",
    "    movement = s.split = (\" \")\n",
    "    direction = movement[0]\n",
    "    steps = int(movement[1])\n",
    "\n",
    "# checking for the condition    \n",
    "    if direction == \"UP\":\n",
    "        pos[0] += steps\n",
    "        \n",
    "    elif direction == \"DOWN\":\n",
    "        pos[0] -= steps\n",
    "        \n",
    "    elif direction == \"LEFT\":\n",
    "        pos[1] -= steps\n",
    "        \n",
    "    elif direction == \"RIGHT\":\n",
    "        pos[1] += steps\n",
    "        \n",
    "    else:\n",
    "        pass\n",
    "\n",
    "# calculating the distance from the original position to the current position\n",
    "\n",
    "print(int(round(math.sqrt(pos[1] ** 2 + pos[0] ** 2))))\n",
    "    \n",
    "    \n",
    "    "
   ]
  }
 ],
 "metadata": {
  "kernelspec": {
   "display_name": "Python 3",
   "language": "python",
   "name": "python3"
  },
  "language_info": {
   "codemirror_mode": {
    "name": "ipython",
    "version": 3
   },
   "file_extension": ".py",
   "mimetype": "text/x-python",
   "name": "python",
   "nbconvert_exporter": "python",
   "pygments_lexer": "ipython3",
   "version": "3.8.3"
  }
 },
 "nbformat": 4,
 "nbformat_minor": 4
}
